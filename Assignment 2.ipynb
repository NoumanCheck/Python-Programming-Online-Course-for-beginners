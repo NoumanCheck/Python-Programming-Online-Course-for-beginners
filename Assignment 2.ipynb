{
 "cells": [
  {
   "cell_type": "markdown",
   "metadata": {},
   "source": [
    "Q-1: Write a program which takes 5 inputs from user for different subject’s\n",
    "marks, total it and generate mark sheet using grades ?"
   ]
  },
  {
   "cell_type": "code",
   "execution_count": 1,
   "metadata": {},
   "outputs": [
    {
     "name": "stdout",
     "output_type": "stream",
     "text": [
      "Enter Marks of Mathematics:70\n",
      "Enter Marks of Physics:85\n",
      "Enter Marks of Chemistry:80\n",
      "Enter Marks of English:75\n",
      "Enter Marks of Urdu:78\n",
      "Total Marks: 388\n",
      "Your Grade Is A\n"
     ]
    }
   ],
   "source": [
    "Mathematics=int(input(\"Enter Marks of Mathematics:\"))\n",
    "Physics=int(input(\"Enter Marks of Physics:\"))\n",
    "Chemistry=int(input(\"Enter Marks of Chemistry:\"))\n",
    "English=int(input(\"Enter Marks of English:\"))\n",
    "Urdu=int(input(\"Enter Marks of Urdu:\"))\n",
    "Percentage=(Mathematics+Physics+Chemistry+English+Urdu)/5\n",
    "print(\"Total Marks:\",(Mathematics+Physics+Chemistry+English+Urdu))\n",
    "if(Percentage>=85):\n",
    "     print(\"Your Grade Is A+\")\n",
    "elif(Percentage>=75):\n",
    "     print(\"Your Grade Is A\")\n",
    "elif(Percentage>=65):\n",
    "     print(\"Your Grade Is B\")\n",
    "elif(Percentage>=55):\n",
    "     print(\"Your Grade Is C\")\n",
    "elif(Percentage<55):\n",
    "     print(\"Fail\")"
   ]
  },
  {
   "cell_type": "markdown",
   "metadata": {},
   "source": [
    "Q-2: Write a program which take input from user and identify that the given\n",
    "number is even or odd?"
   ]
  },
  {
   "cell_type": "code",
   "execution_count": 2,
   "metadata": {},
   "outputs": [
    {
     "name": "stdout",
     "output_type": "stream",
     "text": [
      "66\n",
      "Number is Even\n"
     ]
    }
   ],
   "source": [
    "number=int(input())\n",
    "if(number%2==0):\n",
    "    print(\"Number is Even\")\n",
    "else:\n",
    "    print(\"Number is Odd\")"
   ]
  },
  {
   "cell_type": "markdown",
   "metadata": {},
   "source": [
    "Q-3: Write a program which print the length of the list?"
   ]
  },
  {
   "cell_type": "code",
   "execution_count": 3,
   "metadata": {},
   "outputs": [
    {
     "name": "stdout",
     "output_type": "stream",
     "text": [
      "Total Numbers are 6\n"
     ]
    }
   ],
   "source": [
    "Numbers=[69,87,72,95,5,99]\n",
    "print(\"Total Numbers are\",len(Numbers))"
   ]
  },
  {
   "cell_type": "markdown",
   "metadata": {},
   "source": [
    "Q-4: Write a Python program to sum all the numeric items in a list?"
   ]
  },
  {
   "cell_type": "code",
   "execution_count": 4,
   "metadata": {},
   "outputs": [
    {
     "name": "stdout",
     "output_type": "stream",
     "text": [
      "How many numbers: 3\n",
      "Enter number: 45\n",
      "Enter number: 66\n",
      "Enter number: 70\n",
      "Sum of numbers in given list is : 181\n"
     ]
    }
   ],
   "source": [
    "num_list = []\n",
    "num = int(input(\"How many numbers: \"))\n",
    "for n in range(num):\n",
    "    numbers = int(input(\"Enter number: \"))\n",
    "    num_list.append(numbers)\n",
    "print(\"Sum of numbers in given list is :\", sum(num_list))"
   ]
  },
  {
   "cell_type": "markdown",
   "metadata": {},
   "source": [
    "Q-5: Write a Python program to get the largest number from a numeric list."
   ]
  },
  {
   "cell_type": "code",
   "execution_count": 5,
   "metadata": {},
   "outputs": [
    {
     "name": "stdout",
     "output_type": "stream",
     "text": [
      "How many numbers: 2\n",
      "Enter number 45\n",
      "Enter number 98\n",
      "Largest Number in the list is : 98\n"
     ]
    }
   ],
   "source": [
    "list = []\n",
    "num = int(input('How many numbers: '))\n",
    "for n in range(num):\n",
    "    numbers = int(input('Enter number '))\n",
    "    list.append(numbers)\n",
    "print(\"Largest Number in the list is :\",max(list))"
   ]
  },
  {
   "cell_type": "markdown",
   "metadata": {},
   "source": [
    "Q-6: Take a list, say for example this one:\n",
    "a = [1, 1, 2, 3, 5, 8, 13, 21, 34, 55, 89]\n",
    "and write a program that prints out all the elements of the list that are\n",
    "less than 5."
   ]
  },
  {
   "cell_type": "code",
   "execution_count": 6,
   "metadata": {},
   "outputs": [
    {
     "name": "stdout",
     "output_type": "stream",
     "text": [
      "1\n",
      "1\n",
      "2\n",
      "3\n"
     ]
    }
   ],
   "source": [
    "a = [1, 1, 2, 3, 5, 8, 13, 21, 34, 55, 89]\n",
    "for i in a:\n",
    "    if i < 5:\n",
    "        print(i)"
   ]
  },
  {
   "cell_type": "code",
   "execution_count": null,
   "metadata": {},
   "outputs": [],
   "source": []
  }
 ],
 "metadata": {
  "kernelspec": {
   "display_name": "Python 3",
   "language": "python",
   "name": "python3"
  },
  "language_info": {
   "codemirror_mode": {
    "name": "ipython",
    "version": 3
   },
   "file_extension": ".py",
   "mimetype": "text/x-python",
   "name": "python",
   "nbconvert_exporter": "python",
   "pygments_lexer": "ipython3",
   "version": "3.7.4"
  }
 },
 "nbformat": 4,
 "nbformat_minor": 2
}
