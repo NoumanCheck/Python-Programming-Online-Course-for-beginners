{
 "cells": [
  {
   "cell_type": "markdown",
   "metadata": {},
   "source": [
    "Q-1: Use a dictionary to store information about a person you know. Store their first name, last name, age,\n",
    "and the city in which they live. You should have keys such as first_name, last_name, age, and city. Print\n",
    "each piece of information stored in your dictionary. Add a new key value pair about qualification then\n",
    "update the qualification value to high academic level then delete it."
   ]
  },
  {
   "cell_type": "code",
   "execution_count": 1,
   "metadata": {},
   "outputs": [
    {
     "name": "stdout",
     "output_type": "stream",
     "text": [
      "{'first_name': 'Ali', 'last_name': 'Muhammad', 'age': 23, 'city': 'Khi', 'Qualification': 'BS in Computer Science'}\n",
      "{'first_name': 'Ali', 'last_name': 'Muhammad', 'age': 23, 'city': 'Khi'}\n"
     ]
    }
   ],
   "source": [
    "person = {\n",
    "    'first_name':'Ali',\n",
    "    'last_name': 'Muhammad',\n",
    "    'age': 23,\n",
    "    'city': 'Khi',\n",
    "    }\n",
    "person['Qualification']='BS in Computer Science'  \n",
    "print (person)\n",
    "del person['Qualification']\n",
    "print (person)"
   ]
  },
  {
   "cell_type": "markdown",
   "metadata": {},
   "source": [
    "Q-2: Make a dictionary called cities. Use the names of three cities as keys in your dictionary. Create a\n",
    "dictionary of information about each city and include the country that the city is in, its approximate\n",
    "population, and one fact about that city. The keys for each city’s dictionary should be something like\n",
    "country, population, and fact. Print the name of each city and all of the information you have stored\n",
    "about it."
   ]
  },
  {
   "cell_type": "code",
   "execution_count": 2,
   "metadata": {},
   "outputs": [
    {
     "name": "stdout",
     "output_type": "stream",
     "text": [
      "\n",
      "Karachi is in Pakistan.\n",
      "  It has a population of about 14910352.\n",
      "  The Fifth ranked in the world.\n",
      "\n",
      "Istanbul is in Turkey.\n",
      "  It has a population of about 82003882.\n",
      "  The 28Th  ranked in the world.\n",
      "\n",
      "Kuala Lumpur is in Maylaisa.\n",
      "  It has a population of about 17310.\n",
      "  The 29Th ranked in the world.\n"
     ]
    }
   ],
   "source": [
    "cities = {\n",
    "    'Karachi': {\n",
    "        'country': 'Pakistan',\n",
    "        'population':14910352,\n",
    "        'ranked': 'fifth',\n",
    "        },\n",
    "    'Istanbul': {\n",
    "        'country': 'Turkey',\n",
    "        'population': 82003882 ,\n",
    "        'ranked': '28th ',\n",
    "        },\n",
    "    'Kuala lumpur': {\n",
    "        'country': 'Maylaisa',\n",
    "        'population': 17310 ,\n",
    "        'ranked': '29th',\n",
    "        }\n",
    "    }\n",
    "\n",
    "for city, city_info in cities.items():\n",
    "    country = city_info['country'].title()\n",
    "    population = city_info['population']\n",
    "    ranked = city_info['ranked'].title()\n",
    "\n",
    "    print(\"\\n\" + city.title() + \" is in \" + country + \".\")\n",
    "    print(\"  It has a population of about \" + str(population) + \".\")\n",
    "    print(\"  The \" + ranked + \" ranked in the world.\")"
   ]
  },
  {
   "cell_type": "markdown",
   "metadata": {},
   "source": [
    "Q-3: A movie theater charges different ticket prices depending on a person’s age. If a person is under the age\n",
    "of 3, the ticket is free; if they are between 3 and 12, the ticket is $10; and if they are over age 12, the\n",
    "ticket is $15. Write a loop in which you ask users their age, and then tell them the cost of their movie\n",
    "ticket."
   ]
  },
  {
   "cell_type": "code",
   "execution_count": 3,
   "metadata": {},
   "outputs": [
    {
     "name": "stdout",
     "output_type": "stream",
     "text": [
      "First tell me your age to buy a ticket \n",
      "How old are you:7\n",
      "  Your ticket cost is $10.\n"
     ]
    }
   ],
   "source": [
    "age = input(\"First tell me your age to buy a ticket \\nHow old are you:\")\n",
    "i=0\n",
    "while i<=1:\n",
    "    age = int(age)\n",
    "    if age < 3:\n",
    "        print(\"  You in get for free!\")\n",
    "        break\n",
    "    elif age < 13:\n",
    "        print(\"  Your ticket cost is $10.\")\n",
    "        break\n",
    "    else:\n",
    "        print(\"  Your ticket cost is $15.\")\n",
    "        break"
   ]
  },
  {
   "cell_type": "markdown",
   "metadata": {},
   "source": [
    "Q-4: Write a function called favorite_book() that accepts one parameter, title. The function should print a\n",
    "message, such as One of my favorite books is Alice in Wonderland. Call the function, making sure to\n",
    "include a book title as an argument in the function call."
   ]
  },
  {
   "cell_type": "code",
   "execution_count": 4,
   "metadata": {},
   "outputs": [
    {
     "name": "stdout",
     "output_type": "stream",
     "text": [
      "Thinking, Fast and Slow is one of my favorite books.\n"
     ]
    }
   ],
   "source": [
    "def favorite_book(title):\n",
    "    print(title + ' is one of my favorite books.')\n",
    "\n",
    "#Calling Function\n",
    "favorite_book('Thinking, Fast and Slow')"
   ]
  },
  {
   "cell_type": "markdown",
   "metadata": {},
   "source": [
    "Q-5: Guess the number game\n",
    "Write a program which randomly generate a number between 1 to 30 and ask the user in input field to\n",
    "guess the correct number. Give three chances to user guess the number and also give hint to user if\n",
    "hidden number is greater or smaller than the number he given to input field."
   ]
  },
  {
   "cell_type": "code",
   "execution_count": 7,
   "metadata": {},
   "outputs": [
    {
     "name": "stdout",
     "output_type": "stream",
     "text": [
      "              HINT              \n",
      "Try a number between 1 and 30\n",
      "Enter your guess: 2\n",
      "Your guess is wrong !!!\n",
      "               Better Luck Next Time              \n",
      "Enter your guess: 3\n",
      "Your guess is wrong !!!\n",
      "               Better Luck Next Time              \n",
      "Enter your guess: 4\n",
      "Your guess is wrong !!!\n",
      "               Better Luck Next Time              \n"
     ]
    }
   ],
   "source": [
    "import random\n",
    "random=random.randint(1,30)\n",
    "print(\"              HINT              \")\n",
    "if random>=1 and random <=30:\n",
    "    print(\"Try a number between 1 and 30\")\n",
    "for i in range(0,3):\n",
    "    user = int(input(\"Enter your guess: \"))\n",
    "    if user < 1 or user > 30:\n",
    "        print(\"Choose a number between 1 and 30\")\n",
    "    else:\n",
    "        if user == random:\n",
    "            print(\"Your guess is right !!!\")\n",
    "            break\n",
    "        else:\n",
    "            print(\"Your guess is wrong !!!\")\n",
    "            print(\"               Better Luck Next Time              \")"
   ]
  },
  {
   "cell_type": "code",
   "execution_count": null,
   "metadata": {},
   "outputs": [],
   "source": []
  }
 ],
 "metadata": {
  "kernelspec": {
   "display_name": "Python 3",
   "language": "python",
   "name": "python3"
  },
  "language_info": {
   "codemirror_mode": {
    "name": "ipython",
    "version": 3
   },
   "file_extension": ".py",
   "mimetype": "text/x-python",
   "name": "python",
   "nbconvert_exporter": "python",
   "pygments_lexer": "ipython3",
   "version": "3.7.4"
  }
 },
 "nbformat": 4,
 "nbformat_minor": 2
}
